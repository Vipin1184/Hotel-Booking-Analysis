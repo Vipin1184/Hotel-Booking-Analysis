{
  "nbformat": 4,
  "nbformat_minor": 0,
  "metadata": {
    "colab": {
      "private_outputs": true,
      "provenance": [],
      "collapsed_sections": [
        "vncDsAP0Gaoa",
        "FJNUwmbgGyua",
        "w6K7xa23Elo4",
        "yQaldy8SH6Dl",
        "PH-0ReGfmX4f",
        "mDgbUHAGgjLW",
        "O_i_v8NEhb9l",
        "HhfV-JJviCcP",
        "Y3lxredqlCYt",
        "3RnN4peoiCZX",
        "x71ZqKXriCWQ",
        "7hBIi_osiCS2",
        "JlHwYmJAmNHm",
        "35m5QtbWiB9F",
        "PoPl-ycgm1ru",
        "H0kj-8xxnORC",
        "nA9Y7ga8ng1Z",
        "PBTbrJXOngz2",
        "u3PMJOP6ngxN",
        "dauF4eBmngu3",
        "bKJF3rekwFvQ",
        "MSa1f5Uengrz",
        "GF8Ens_Soomf",
        "0wOQAZs5pc--",
        "K5QZ13OEpz2H",
        "lQ7QKXXCp7Bj",
        "448CDAPjqfQr",
        "KSlN3yHqYklG",
        "t6dVpIINYklI",
        "ijmpgYnKYklI",
        "-JiQyfWJYklI",
        "EM7whBJCYoAo",
        "fge-S5ZAYoAp",
        "85gYPyotYoAp",
        "RoGjAbkUYoAp",
        "4Of9eVA-YrdM",
        "iky9q4vBYrdO",
        "F6T5p64dYrdO",
        "y-Ehk30pYrdP",
        "bamQiAODYuh1",
        "QHF8YVU7Yuh3",
        "GwzvFGzlYuh3",
        "qYpmQ266Yuh3",
        "OH-pJp9IphqM",
        "bbFf2-_FphqN",
        "_ouA3fa0phqN",
        "Seke61FWphqN",
        "PIIx-8_IphqN",
        "t27r6nlMphqO",
        "r2jJGEOYphqO",
        "b0JNsNcRphqO",
        "BZR9WyysphqO",
        "jj7wYXLtphqO",
        "eZrbJ2SmphqO",
        "rFu4xreNphqO",
        "YJ55k-q6phqO",
        "gCFgpxoyphqP",
        "OVtJsKN_phqQ",
        "lssrdh5qphqQ",
        "U2RJ9gkRphqQ",
        "1M8mcRywphqQ",
        "tgIPom80phqQ",
        "JMzcOPDDphqR",
        "x-EpHcCOp1ci",
        "X_VqEhTip1ck",
        "8zGJKyg5p1ck",
        "PVzmfK_Ep1ck",
        "n3dbpmDWp1ck",
        "ylSl6qgtp1ck",
        "ZWILFDl5p1ck",
        "M7G43BXep1ck",
        "Ag9LCva-p1cl",
        "E6MkPsBcp1cl",
        "2cELzS2fp1cl",
        "3MPXvC8up1cl",
        "NC_X3p0fY2L0",
        "UV0SzAkaZNRQ",
        "YPEH6qLeZNRQ",
        "q29F0dvdveiT",
        "EXh0U9oCveiU",
        "22aHeOlLveiV",
        "JcMwzZxoAimU",
        "8G2x9gOozGDZ",
        "gCX9965dhzqZ",
        "gIfDvo9L0UH2"
      ],
      "include_colab_link": true
    },
    "kernelspec": {
      "name": "python3",
      "display_name": "Python 3"
    },
    "language_info": {
      "name": "python"
    }
  },
  "cells": [
    {
      "cell_type": "markdown",
      "metadata": {
        "id": "view-in-github",
        "colab_type": "text"
      },
      "source": [
        "<a href=\"https://colab.research.google.com/github/Vipin1184/Hotel-Booking-Analysis/blob/main/EDA_project_file.ipynb\" target=\"_parent\"><img src=\"https://colab.research.google.com/assets/colab-badge.svg\" alt=\"Open In Colab\"/></a>"
      ]
    },
    {
      "cell_type": "markdown",
      "source": [
        "# **Hotel Booking Analysis**    -\n",
        "\n"
      ],
      "metadata": {
        "id": "vncDsAP0Gaoa"
      }
    },
    {
      "cell_type": "markdown",
      "source": [
        "##### **Project Type**    - EDA\n",
        "##### **Contribution**    - Individual\n",
        "\n"
      ],
      "metadata": {
        "id": "beRrZCGUAJYm"
      }
    },
    {
      "cell_type": "markdown",
      "source": [
        "# **Project Summary -**"
      ],
      "metadata": {
        "id": "FJNUwmbgGyua"
      }
    },
    {
      "cell_type": "markdown",
      "source": [
        "In this project we have given a dataset regarding hotel booking and we have to perform EDA on this dataset to find customer behavior and patterns of hotel booking.The dataset contains two types of hotels one is resort hotel and other is city hotel.It contain details about customer's preffered booking channel. It also contain details about their arrival time and booking time. And it have details about their booking preferrences like room type. It also have details about thier special requests like space for car parking and meal etc.EDA contains data reading, data cleaning, univariate/bivariate analysis and data visualisations. By performing these steps we will know about patterns regarding booking.And lastly we have to list our insights and conclusion."
      ],
      "metadata": {
        "id": "F6v_1wHtG2nS"
      }
    },
    {
      "cell_type": "markdown",
      "source": [
        "# **GitHub Link -**"
      ],
      "metadata": {
        "id": "w6K7xa23Elo4"
      }
    },
    {
      "cell_type": "markdown",
      "source": [
        "Provide your GitHub Link here.\n",
        "https://github.com/Vipin1184/Hotel-Booking-Analysis"
      ],
      "metadata": {
        "id": "h1o69JH3Eqqn"
      }
    },
    {
      "cell_type": "markdown",
      "source": [
        "# **Problem Statement**\n",
        "\n"
      ],
      "metadata": {
        "id": "yQaldy8SH6Dl"
      }
    },
    {
      "cell_type": "markdown",
      "source": [
        "Have you ever wondered when the best time of year to book a hotel room is? Or the optimal length of stay in order to get the best daily rate? What if you wanted to predict whether or not a hotel was likely to receive a disproportionately high number of special requests? This hotel booking dataset can help you explore those questions! This data set contains booking information for a city hotel and a resort hotel, and includes information such as when the booking was made, length of stay, the number of adults, children, and/or babies, and the number of available parking spaces, among other things. All personally identifying information has been removed from the data. Explore and analyse the data to discover important factors that govern the bookings."
      ],
      "metadata": {
        "id": "DpeJGUA3kjGy"
      }
    },
    {
      "cell_type": "markdown",
      "source": [
        "#### **Define Your Business Objective?**"
      ],
      "metadata": {
        "id": "PH-0ReGfmX4f"
      }
    },
    {
      "cell_type": "markdown",
      "source": [
        "We have to Identify key factors influencing booking patterns and customer satisfaction to optimize revenue and enhance guest experience."
      ],
      "metadata": {
        "id": "PhDvGCAqmjP1"
      }
    },
    {
      "cell_type": "markdown",
      "source": [
        "# **General Guidelines** : -  "
      ],
      "metadata": {
        "id": "mDgbUHAGgjLW"
      }
    },
    {
      "cell_type": "markdown",
      "source": [
        "1.   Well-structured, formatted, and commented code is required.\n",
        "2.   Exception Handling, Production Grade Code & Deployment Ready Code will be a plus. Those students will be awarded some additional credits.\n",
        "     \n",
        "     The additional credits will have advantages over other students during Star Student selection.\n",
        "       \n",
        "             [ Note: - Deployment Ready Code is defined as, the whole .ipynb notebook should be executable in one go\n",
        "                       without a single error logged. ]\n",
        "\n",
        "3.   Each and every logic should have proper comments.\n",
        "4. You may add as many number of charts you want. Make Sure for each and every chart the following format should be answered.\n",
        "        \n",
        "\n",
        "```\n",
        "# Chart visualization code\n",
        "```\n",
        "            \n",
        "\n",
        "*   Why did you pick the specific chart?\n",
        "*   What is/are the insight(s) found from the chart?\n",
        "* Will the gained insights help creating a positive business impact?\n",
        "Are there any insights that lead to negative growth? Justify with specific reason.\n",
        "\n",
        "5. You have to create at least 20 logical & meaningful charts having important insights.\n",
        "\n",
        "\n",
        "[ Hints : - Do the Vizualization in  a structured way while following \"UBM\" Rule.\n",
        "\n",
        "U - Univariate Analysis,\n",
        "\n",
        "B - Bivariate Analysis (Numerical - Categorical, Numerical - Numerical, Categorical - Categorical)\n",
        "\n",
        "M - Multivariate Analysis\n",
        " ]\n",
        "\n",
        "\n",
        "\n"
      ],
      "metadata": {
        "id": "ZrxVaUj-hHfC"
      }
    },
    {
      "cell_type": "markdown",
      "source": [
        "# ***Let's Begin !***"
      ],
      "metadata": {
        "id": "O_i_v8NEhb9l"
      }
    },
    {
      "cell_type": "markdown",
      "source": [
        "## ***1. Know Your Data***"
      ],
      "metadata": {
        "id": "HhfV-JJviCcP"
      }
    },
    {
      "cell_type": "markdown",
      "source": [
        "### Import Libraries"
      ],
      "metadata": {
        "id": "Y3lxredqlCYt"
      }
    },
    {
      "cell_type": "code",
      "source": [
        "# Import Libraries\n",
        "import pandas as pd\n",
        "import numpy as np\n",
        "import matplotlib.pyplot as plt\n",
        "import seaborn as sns\n",
        "from numpy import math"
      ],
      "metadata": {
        "id": "M8Vqi-pPk-HR"
      },
      "execution_count": null,
      "outputs": []
    },
    {
      "cell_type": "markdown",
      "source": [
        "### Dataset Loading"
      ],
      "metadata": {
        "id": "3RnN4peoiCZX"
      }
    },
    {
      "cell_type": "code",
      "source": [
        "# Mount google drive\n",
        "from google.colab import drive\n",
        "drive.mount(\"/content/drive\")"
      ],
      "metadata": {
        "id": "GXkCePr7PXN9"
      },
      "execution_count": null,
      "outputs": []
    },
    {
      "cell_type": "code",
      "source": [
        "# Load Dataset\n",
        "file_path = \"/content/drive/MyDrive/Hotel Bookings.csv\"\n",
        "df = pd.read_csv(file_path)\n",
        "df"
      ],
      "metadata": {
        "id": "4CkvbW_SlZ_R"
      },
      "execution_count": null,
      "outputs": []
    },
    {
      "cell_type": "markdown",
      "source": [
        "### Dataset First View"
      ],
      "metadata": {
        "id": "x71ZqKXriCWQ"
      }
    },
    {
      "cell_type": "code",
      "source": [
        "# Dataset First Look\n",
        "df.head()"
      ],
      "metadata": {
        "id": "LWNFOSvLl09H"
      },
      "execution_count": null,
      "outputs": []
    },
    {
      "cell_type": "code",
      "source": [
        "df.tail()"
      ],
      "metadata": {
        "id": "2tEm4U7JXJsS"
      },
      "execution_count": null,
      "outputs": []
    },
    {
      "cell_type": "markdown",
      "source": [
        "### Dataset Rows & Columns count"
      ],
      "metadata": {
        "id": "7hBIi_osiCS2"
      }
    },
    {
      "cell_type": "code",
      "source": [
        "# Dataset Rows & Columns count\n",
        "df.shape"
      ],
      "metadata": {
        "id": "Kllu7SJgmLij"
      },
      "execution_count": null,
      "outputs": []
    },
    {
      "cell_type": "markdown",
      "source": [
        "### Dataset Information"
      ],
      "metadata": {
        "id": "JlHwYmJAmNHm"
      }
    },
    {
      "cell_type": "code",
      "source": [
        "# Dataset Info\n",
        "df.info()"
      ],
      "metadata": {
        "id": "e9hRXRi6meOf"
      },
      "execution_count": null,
      "outputs": []
    },
    {
      "cell_type": "markdown",
      "source": [
        "#### Duplicate Values"
      ],
      "metadata": {
        "id": "35m5QtbWiB9F"
      }
    },
    {
      "cell_type": "code",
      "source": [
        "# Dataset Duplicate Value Count\n",
        "df.duplicated().sum()"
      ],
      "metadata": {
        "id": "1sLdpKYkmox0"
      },
      "execution_count": null,
      "outputs": []
    },
    {
      "cell_type": "markdown",
      "source": [
        "#### Missing Values/Null Values"
      ],
      "metadata": {
        "id": "PoPl-ycgm1ru"
      }
    },
    {
      "cell_type": "code",
      "source": [
        "# Missing Values/Null Values Count\n",
        "df.isnull().sum()"
      ],
      "metadata": {
        "id": "GgHWkxvamxVg"
      },
      "execution_count": null,
      "outputs": []
    },
    {
      "cell_type": "code",
      "source": [
        "# Visualizing the missing values\n",
        "missing_values = df.isnull().sum()\n",
        "\n",
        "plt.figure(figsize=(10, 6))\n",
        "missing_values.plot(kind='bar')\n",
        "plt.xlabel('Columns')\n",
        "plt.ylabel('Number of Missing Values')\n",
        "plt.title('Missing Values in Each Column')\n",
        "plt.show()"
      ],
      "metadata": {
        "id": "3q5wnI3om9sJ"
      },
      "execution_count": null,
      "outputs": []
    },
    {
      "cell_type": "markdown",
      "source": [
        "### What did you know about your dataset?"
      ],
      "metadata": {
        "id": "H0kj-8xxnORC"
      }
    },
    {
      "cell_type": "markdown",
      "source": [
        "The dataset given here is about hotel bookings. It contains information about hotel type, its cancellation, reservation etc. This dataset contains 32 columns and 119390 rows. It has some duplicate values and also missing values in some columns.Also some columns have irrelevant data types.\n"
      ],
      "metadata": {
        "id": "gfoNAAC-nUe_"
      }
    },
    {
      "cell_type": "markdown",
      "source": [
        "## ***2. Understanding Your Variables***"
      ],
      "metadata": {
        "id": "nA9Y7ga8ng1Z"
      }
    },
    {
      "cell_type": "code",
      "source": [
        " # Dataset Columns\n",
        "df.columns"
      ],
      "metadata": {
        "id": "j7xfkqrt5Ag5"
      },
      "execution_count": null,
      "outputs": []
    },
    {
      "cell_type": "code",
      "source": [
        "# Dataset Describe\n",
        "df.describe(include='all')"
      ],
      "metadata": {
        "id": "DnOaZdaE5Q5t"
      },
      "execution_count": null,
      "outputs": []
    },
    {
      "cell_type": "markdown",
      "source": [
        "### Variables Description"
      ],
      "metadata": {
        "id": "PBTbrJXOngz2"
      }
    },
    {
      "cell_type": "markdown",
      "source": [
        "* **Hotel** : Type of hotel(city,resort)\n",
        "* **is cancelled** : Weather the booking was cancelled or not(0,1)\n",
        "* **lead_time** : Number of days between booking and arrival.\n",
        "* **arrival_date_year** : Year of arrival.\n",
        "* **arrival_date_month** : month of arrival.\n",
        "* **arrival_date_week_number** : week number of arrival.\n",
        "* **arrival_date_day_of_month** : date of arrival.\n",
        "* **stays_in_weekend_nights** : number of weekend nights stay(saturday,sunday)\n",
        "* **stays_in_week_nights** : number of week nights stay other than saturday,sunday.\n",
        "* **adults** : number of adults.\n",
        "* **childs** : number of childs.\n",
        "* **babies** : number of babies.\n",
        "* **meal** : type of meal booked.\n",
        "* **country** : country of customer.\n",
        "* **market_segment** : market segment designation (online TA/TO, Offline TA/TO, direct, coorperate).\n",
        "* **distribution_channel** : preffered booking channel(direct,coorperate,TA/TO)\n",
        "* **is_repeated_guest** : whether the guest is repeated or not(0,1)\n",
        "* **previous_bookings_not_cancelled** : number of previously not cancelled bookings.\n",
        "* **reserved_room-type** : type of room booked.\n",
        "* **assigned_room_type** : type of room assigned.\n",
        "* **booking_changes** : number of changes in bookings.\n",
        "* **deposit_type** : Type of deposit(e.g. no deposit,no refund)\n",
        "* **agent** : ID of the travel agent\n",
        "* **company** : ID of the company\n",
        "* **days_in_waiting_list** : number of days the booking was on the waiting list\n",
        "* **customer_type** : type of customer(transient,contract)\n",
        "* **adr** : Average daily rate(price per day)\n",
        "* **required_car_parking_spaces** : Number of car parking space required by customer\n",
        "* **total_of_special_request** : number of special request made by customer.\n",
        "* **reservation_status** : current status of booking(check out,cancelled)\n",
        "* **reservation_status_date**: date of last reservation status\n"
      ],
      "metadata": {
        "id": "aJV4KIxSnxay"
      }
    },
    {
      "cell_type": "markdown",
      "source": [
        "### Check Unique Values for each variable."
      ],
      "metadata": {
        "id": "u3PMJOP6ngxN"
      }
    },
    {
      "cell_type": "code",
      "source": [
        "# Check Unique Values for each variable.\n",
        "df.nunique()\n"
      ],
      "metadata": {
        "id": "zms12Yq5n-jE"
      },
      "execution_count": null,
      "outputs": []
    },
    {
      "cell_type": "markdown",
      "source": [
        "## 3. ***Data Wrangling***"
      ],
      "metadata": {
        "id": "dauF4eBmngu3"
      }
    },
    {
      "cell_type": "markdown",
      "source": [
        "### Data Wrangling Code"
      ],
      "metadata": {
        "id": "bKJF3rekwFvQ"
      }
    },
    {
      "cell_type": "code",
      "source": [
        "# create a copy of original dataframe\n",
        "df_copy = df.copy()\n",
        "df_copy.shape"
      ],
      "metadata": {
        "id": "zolEiCbQLh0C"
      },
      "execution_count": null,
      "outputs": []
    },
    {
      "cell_type": "code",
      "source": [
        "# drop duplicates\n",
        "df_copy.drop_duplicates(inplace=True)\n",
        "df_copy.duplicated().sum()"
      ],
      "metadata": {
        "id": "wk-9a2fpoLcV"
      },
      "execution_count": null,
      "outputs": []
    },
    {
      "cell_type": "code",
      "source": [
        "# checking the shape\n",
        "df_copy.shape"
      ],
      "metadata": {
        "id": "lQfma-LXOuBY"
      },
      "execution_count": null,
      "outputs": []
    },
    {
      "cell_type": "code",
      "source": [
        "# drop 'company' column\n",
        "df_copy.drop(['company'],axis=1,inplace=True)"
      ],
      "metadata": {
        "id": "KrQWuJy5Lnlz"
      },
      "execution_count": null,
      "outputs": []
    },
    {
      "cell_type": "code",
      "source": [
        "# drop 'agent' column\n",
        "df_copy.drop(['agent'],axis=1,inplace=True)"
      ],
      "metadata": {
        "id": "0BYUqD3aLniU"
      },
      "execution_count": null,
      "outputs": []
    },
    {
      "cell_type": "code",
      "source": [
        "# drop 'arrival_date_week_number' column\n",
        "df_copy.drop(['arrival_date_week_number'],axis = 1, inplace = True)"
      ],
      "metadata": {
        "id": "TSGuLk59nGFt"
      },
      "execution_count": null,
      "outputs": []
    },
    {
      "cell_type": "code",
      "source": [
        "# checking the shape\n",
        "df_copy.shape"
      ],
      "metadata": {
        "id": "DqlPHS3gLnfq"
      },
      "execution_count": null,
      "outputs": []
    },
    {
      "cell_type": "code",
      "source": [
        "# Creating column 'total_person' and 'total_stays'\n",
        "df_copy['total_person'] = df_copy['adults'] + df_copy['children'] + df_copy['babies']\n",
        "df_copy['total_stays'] = df_copy['stays_in_week_nights'] + df_copy['stays_in_weekend_nights']\n",
        "df_copy.head()"
      ],
      "metadata": {
        "id": "vbHHsy4iQp3I"
      },
      "execution_count": null,
      "outputs": []
    },
    {
      "cell_type": "code",
      "source": [
        "# Checking the info\n",
        "df_copy.info()"
      ],
      "metadata": {
        "id": "hixPS8mS_qcp"
      },
      "execution_count": null,
      "outputs": []
    },
    {
      "cell_type": "code",
      "source": [
        "# Changing the data type of 'reservation_status_date' to datetime datatype\n",
        "df_copy['reservation_status_date'] = pd.to_datetime(df_copy['reservation_status_date'], format='%Y-%m-%d')"
      ],
      "metadata": {
        "id": "QT87vqI0vjEC"
      },
      "execution_count": null,
      "outputs": []
    },
    {
      "cell_type": "code",
      "source": [
        "# Dropping the unnecessary columns\n",
        "df_copy.drop(['adults','children','babies','stays_in_week_nights','stays_in_weekend_nights'],axis=1,inplace=True)\n"
      ],
      "metadata": {
        "id": "5LgFRCj3ufcD"
      },
      "execution_count": null,
      "outputs": []
    },
    {
      "cell_type": "code",
      "source": [
        "# Checking the shape\n",
        "df_copy.shape"
      ],
      "metadata": {
        "id": "W-rLn5SrvI59"
      },
      "execution_count": null,
      "outputs": []
    },
    {
      "cell_type": "code",
      "source": [
        "# Handelling the missing values\n",
        "df_copy['country'] = df_copy['country'].fillna('others')\n",
        "df_copy['total_person'] = df_copy['total_person'].fillna(0)\n",
        "\n",
        "df_copy.isnull().sum()"
      ],
      "metadata": {
        "id": "ZMG1DaQ3vw-8"
      },
      "execution_count": null,
      "outputs": []
    },
    {
      "cell_type": "markdown",
      "source": [
        "### What all manipulations have you done and insights you found?"
      ],
      "metadata": {
        "id": "MSa1f5Uengrz"
      }
    },
    {
      "cell_type": "markdown",
      "source": [
        "\n",
        "**Manipulations**\n",
        "\n",
        "* First of all we made a copy of our original dataset so as to keep it as a reference point and whatever operation we do, it does not affect our original dataset.\n",
        "* Then, since our dataset contains 31994 duplicate values, so we dropped the duplicated values.\n",
        "* Then we dropped the column 'company' because it contains large number of missing values.\n",
        "*  Then we dropped some irrelevant columns like: agent and arrival date week number because they were irrelevant for data analysis task.    \n",
        "* And then we created two columns;\n",
        "  1. 'total person' by adding children, adults and babies.\n",
        "  2. 'total stays' by adding weeknights and weekend nights stays.\n",
        "\n",
        "* After that we change the data type of reservation status date column to date time format.\n",
        "* After that we dropped some extra  unnecessary columns like 'adults', 'children', 'babies', 'weekend night stays', 'weeknight stays' because they have been merged under the columns 'total person' and 'total stays'.\n",
        "* And lastly we removed the missing values from the dataset.Since previously we had four columns with missing values and we dropped two of them which are 'agent' and 'company',So we are left with two columns one is 'country' and other is 'children' which has been merged under 'total person' column.To handel those missing values we replaced null values of 'country' column with 'others' and null values of 'total person' column with '0'.\n",
        "\n",
        "**Insights**\n",
        "\n",
        "* **Improved Data Integrity**: Removing duplicates ensures a cleaner dataset for analysis.\n",
        "\n",
        "* **Enhanced Data Quality**: Dropping the 'company' column with its numerous missing values improves the overall quality of the dataset.\n",
        "\n",
        "* **Streamlined Data**: Removing less relevant columns like 'agent' and 'arrival_date_week_number' focuses the analysis on key factors.\n",
        "\n",
        "* **Simplified Analysis**: Creating the 'total_person' and 'total_stays' columns makes the comparisons simple.\n",
        "\n",
        "* **Time-Based Insights**: Converting 'reservation_status_date' to datetime format enables time-series analysis, helping identify booking patterns over time.\n",
        "\n",
        "* **Reduced Missing Values**: Handling missing values in 'country' and\n",
        "'total_person' simplyfies the dataset for analysis.\n",
        "\n",
        "* And finally our dataset is ready for visualisation.\n",
        "\n",
        "\n",
        "\n"
      ],
      "metadata": {
        "id": "LbyXE7I1olp8"
      }
    },
    {
      "cell_type": "markdown",
      "source": [
        "## ***4. Data Vizualization, Storytelling & Experimenting with charts : Understand the relationships between variables***"
      ],
      "metadata": {
        "id": "GF8Ens_Soomf"
      }
    },
    {
      "cell_type": "markdown",
      "source": [
        "# Univariate analysis"
      ],
      "metadata": {
        "id": "HhXKf0CueBi0"
      }
    },
    {
      "cell_type": "markdown",
      "source": [
        "#### Chart - 1\n"
      ],
      "metadata": {
        "id": "0wOQAZs5pc--"
      }
    },
    {
      "cell_type": "code",
      "source": [
        "# Chart - 1 Visualising the percentage of bookings of both hotels.\n",
        "exp2 = [0,0.05]\n",
        "hotel_counts = df_copy['hotel'].value_counts()\n",
        "plt.pie(hotel_counts.values, labels=hotel_counts.index, autopct='%1.1f%%', explode=exp2)\n",
        "plt.title('Distribution of Bookings of Hotels')\n",
        "plt.show()"
      ],
      "metadata": {
        "id": "zhRxg4FxCtwK"
      },
      "execution_count": null,
      "outputs": []
    },
    {
      "cell_type": "markdown",
      "source": [
        "##### 1. Why did you pick the specific chart?"
      ],
      "metadata": {
        "id": "K5QZ13OEpz2H"
      }
    },
    {
      "cell_type": "markdown",
      "source": [
        "For showing the percentage of bookings of city hotels and resort hotels."
      ],
      "metadata": {
        "id": "XESiWehPqBRc"
      }
    },
    {
      "cell_type": "markdown",
      "source": [
        "##### 2. What is/are the insight(s) found from the chart?"
      ],
      "metadata": {
        "id": "lQ7QKXXCp7Bj"
      }
    },
    {
      "cell_type": "markdown",
      "source": [
        "City hotels have maximum number of bookings as compared to resort hotels."
      ],
      "metadata": {
        "id": "C_j1G7yiqdRP"
      }
    },
    {
      "cell_type": "markdown",
      "source": [
        "##### 3. Will the gained insights help creating a positive business impact?\n",
        "Are there any insights that lead to negative growth? Justify with specific reason."
      ],
      "metadata": {
        "id": "448CDAPjqfQr"
      }
    },
    {
      "cell_type": "markdown",
      "source": [
        "Yes gained insights help creating a positive business impact on coty hotels.\n",
        "\n",
        "**Positive insight:**\n",
        "One can focus their marketing and sales effort on city hotels to increase more revenue and bookings.\n",
        "\n",
        "**Negative insight:**\n",
        "We can't solely focus on city hotels only.We have to find solution to increase booking in resort hotel and to make a balance in both segments."
      ],
      "metadata": {
        "id": "3cspy4FjqxJW"
      }
    },
    {
      "cell_type": "markdown",
      "source": [
        "#### Chart - 2"
      ],
      "metadata": {
        "id": "KSlN3yHqYklG"
      }
    },
    {
      "cell_type": "code",
      "source": [
        "# Chart - 2 Visualising the percentage of cancellation.\n",
        "cancellation_counts = df_copy['is_canceled'].value_counts()\n",
        "plt.pie(cancellation_counts.values, labels=cancellation_counts.index, autopct='%1.1f%%')\n",
        "plt.title('Distribution of cancellation and non cancellation')\n",
        "plt.show()\n"
      ],
      "metadata": {
        "id": "EyXi6zRBJB74"
      },
      "execution_count": null,
      "outputs": []
    },
    {
      "cell_type": "markdown",
      "source": [
        "##### 1. Why did you pick the specific chart?"
      ],
      "metadata": {
        "id": "t6dVpIINYklI"
      }
    },
    {
      "cell_type": "markdown",
      "source": [
        "We use this pie chart to show the percentage of cancellation and non cancellation.Here '0' means non cancellation and '1' means cancellation."
      ],
      "metadata": {
        "id": "5aaW0BYyYklI"
      }
    },
    {
      "cell_type": "markdown",
      "source": [
        "##### 2. What is/are the insight(s) found from the chart?"
      ],
      "metadata": {
        "id": "ijmpgYnKYklI"
      }
    },
    {
      "cell_type": "markdown",
      "source": [
        "Here we found that 27.5% bookings got cancelled and 72.5% bookings are not cancelled."
      ],
      "metadata": {
        "id": "PSx9atu2YklI"
      }
    },
    {
      "cell_type": "markdown",
      "source": [
        "##### 3. Will the gained insights help creating a positive business impact?\n",
        "Are there any insights that lead to negative growth? Justify with specific reason."
      ],
      "metadata": {
        "id": "-JiQyfWJYklI"
      }
    },
    {
      "cell_type": "markdown",
      "source": [
        "Yes the gained insights help in creating a positive business impact.\n",
        "\n",
        "**Positive impact:**\n",
        "A lower cancellation rate generally leads to more revenue.It shows that customers are more satisfied with thier bookings.\n",
        "\n",
        "**Negative impact:**\n",
        "Here we see that 27.5% bookings got cancelled.Though the cancellation rate is low, but still we have to find the reasons behind canccellation."
      ],
      "metadata": {
        "id": "BcBbebzrYklV"
      }
    },
    {
      "cell_type": "markdown",
      "source": [
        "#### Chart - 3"
      ],
      "metadata": {
        "id": "EM7whBJCYoAo"
      }
    },
    {
      "cell_type": "code",
      "source": [
        "# Chart - 3 Visualising the bookings by Distribution channel\n",
        "sns.countplot(x='distribution_channel', data=df_copy)\n",
        "plt.title('Distribution of Bookings by Distribution Channel')\n",
        "plt.xlabel('Distribution Channel')\n",
        "plt.ylabel('Count')\n",
        "plt.show()"
      ],
      "metadata": {
        "id": "t6GMdE67YoAp"
      },
      "execution_count": null,
      "outputs": []
    },
    {
      "cell_type": "markdown",
      "source": [
        "##### 1. Why did you pick the specific chart?"
      ],
      "metadata": {
        "id": "fge-S5ZAYoAp"
      }
    },
    {
      "cell_type": "markdown",
      "source": [
        "for showing the distribution of distribution channels."
      ],
      "metadata": {
        "id": "5dBItgRVYoAp"
      }
    },
    {
      "cell_type": "markdown",
      "source": [
        "##### 2. What is/are the insight(s) found from the chart?"
      ],
      "metadata": {
        "id": "85gYPyotYoAp"
      }
    },
    {
      "cell_type": "markdown",
      "source": [
        "Here we found that maximum number of bookings occur through TA/TO channel.It shows people are more preffering TA/TO channel for their bookings."
      ],
      "metadata": {
        "id": "4jstXR6OYoAp"
      }
    },
    {
      "cell_type": "markdown",
      "source": [
        "##### 3. Will the gained insights help creating a positive business impact?\n",
        "Are there any insights that lead to negative growth? Justify with specific reason."
      ],
      "metadata": {
        "id": "RoGjAbkUYoAp"
      }
    },
    {
      "cell_type": "markdown",
      "source": [
        "Yes this shows positive business impact.\n",
        "\n",
        "**Positive impact**\n",
        "We have to focus our existing TA/TO partners to increase the revenue.\n",
        "\n",
        "**Negative impact**\n",
        "We have seen that except TA/TO channel other channels are not much popular among peoples. Depending too heavily on the TA/TO channel could make your business vulnerable if there are changes in the travel industry or if a major partner decides to stop working with you because they typically charge commissions, which can eat into your profit margins.\n",
        "\n"
      ],
      "metadata": {
        "id": "zfJ8IqMcYoAp"
      }
    },
    {
      "cell_type": "markdown",
      "source": [
        "#### Chart - 4"
      ],
      "metadata": {
        "id": "4Of9eVA-YrdM"
      }
    },
    {
      "cell_type": "code",
      "source": [
        "# Chart - 4 visualising the count of room types.\n",
        "sns.countplot(x='reserved_room_type', data=df_copy,color = 'purple')\n",
        "plt.title('Count of Each Room Type Reserved')\n",
        "plt.xlabel('Reserved Room Type')\n",
        "plt.ylabel('Count')\n",
        "plt.show()"
      ],
      "metadata": {
        "id": "irlUoxc8YrdO"
      },
      "execution_count": null,
      "outputs": []
    },
    {
      "cell_type": "markdown",
      "source": [
        "##### 1. Why did you pick the specific chart?\n"
      ],
      "metadata": {
        "id": "iky9q4vBYrdO"
      }
    },
    {
      "cell_type": "markdown",
      "source": [
        "we select this bar chart for showing distribution of reserved room type."
      ],
      "metadata": {
        "id": "aJRCwT6DYrdO"
      }
    },
    {
      "cell_type": "markdown",
      "source": [
        "##### 2. What is/are the insight(s) found from the chart?"
      ],
      "metadata": {
        "id": "F6T5p64dYrdO"
      }
    },
    {
      "cell_type": "markdown",
      "source": [
        "We found that room type 'A' is most preffered by the customers.This could be because of more features and best pricing of type 'A' room."
      ],
      "metadata": {
        "id": "Xx8WAJvtYrdO"
      }
    },
    {
      "cell_type": "markdown",
      "source": [
        "##### 3. Will the gained insights help creating a positive business impact?\n",
        "Are there any insights that lead to negative growth? Justify with specific reason."
      ],
      "metadata": {
        "id": "y-Ehk30pYrdP"
      }
    },
    {
      "cell_type": "markdown",
      "source": [
        "Yes,the insights gain can definitely help in positive business impact.\n",
        "\n",
        "**Positive impact:** By ensuring a sufficient number of type 'A' room hotel can increse their revenue.\n",
        "\n",
        "**Negative impact:** If the less popular room types remain vacant then it can affect overall revenue. So hotel should find reasons behind lower demand of certain rooms and explore strtegies to meet their demand."
      ],
      "metadata": {
        "id": "jLNxxz7MYrdP"
      }
    },
    {
      "cell_type": "markdown",
      "source": [
        "#### Chart - 5"
      ],
      "metadata": {
        "id": "bamQiAODYuh1"
      }
    },
    {
      "cell_type": "code",
      "source": [
        "# Chart - 5 visualising the count of customer types.\n",
        "customer_type_counts = df_copy['customer_type'].value_counts()\n",
        "plt.barh(customer_type_counts.index, customer_type_counts.values,color = 'green')\n",
        "plt.title('Distribution of Customer Types')\n",
        "plt.xlabel('Count')\n",
        "plt.ylabel('Customer type')\n",
        "plt.show()\n"
      ],
      "metadata": {
        "id": "TIJwrbroYuh3"
      },
      "execution_count": null,
      "outputs": []
    },
    {
      "cell_type": "markdown",
      "source": [
        "##### 1. Why did you pick the specific chart?"
      ],
      "metadata": {
        "id": "QHF8YVU7Yuh3"
      }
    },
    {
      "cell_type": "markdown",
      "source": [
        "Because a bar chart allows easy comparison for showing the distribution of different customer type."
      ],
      "metadata": {
        "id": "dcxuIMRPYuh3"
      }
    },
    {
      "cell_type": "markdown",
      "source": [
        "##### 2. What is/are the insight(s) found from the chart?"
      ],
      "metadata": {
        "id": "GwzvFGzlYuh3"
      }
    },
    {
      "cell_type": "markdown",
      "source": [
        "The chart shows that maximum number of bookings done by \"Transient\" customer type, followed by \"Transient-Party\" and then \"Contract."
      ],
      "metadata": {
        "id": "uyqkiB8YYuh3"
      }
    },
    {
      "cell_type": "markdown",
      "source": [
        "##### 3. Will the gained insights help creating a positive business impact?\n",
        "Are there any insights that lead to negative growth? Justify with specific reason."
      ],
      "metadata": {
        "id": "qYpmQ266Yuh3"
      }
    },
    {
      "cell_type": "markdown",
      "source": [
        "Yes the gained insights shows positive impact.\n",
        "\n",
        "**Positive impact:** Hotels should focus on 'Transient' and 'Transient-party' type customers in order to generate more revenue.\n",
        "\n",
        "**Negative impact:** Hotel should also focus on other customer types in order to balance the demand due to seasonality or economic changes."
      ],
      "metadata": {
        "id": "_WtzZ_hCYuh4"
      }
    },
    {
      "cell_type": "markdown",
      "source": [
        "#### Chart - 6"
      ],
      "metadata": {
        "id": "OH-pJp9IphqM"
      }
    },
    {
      "cell_type": "code",
      "source": [
        "# Chart - 6 visualising the percentage of meal types.\n",
        "plt.figure(figsize=(8,6))\n",
        "meal_counts = df_copy['meal'].value_counts()\n",
        "plt.pie(meal_counts.values, labels=meal_counts.index, autopct='%1.1f%%',explode = [0.05,0,0,0,0])\n",
        "plt.title('Distribution of Meal Types')\n",
        "plt.show()"
      ],
      "metadata": {
        "id": "kuRf4wtuphqN"
      },
      "execution_count": null,
      "outputs": []
    },
    {
      "cell_type": "markdown",
      "source": [
        "##### 1. Why did you pick the specific chart?"
      ],
      "metadata": {
        "id": "bbFf2-_FphqN"
      }
    },
    {
      "cell_type": "markdown",
      "source": [
        "A pie chart is an effective way to display the proportions of different meal types chosen by guests."
      ],
      "metadata": {
        "id": "loh7H2nzphqN"
      }
    },
    {
      "cell_type": "markdown",
      "source": [
        "##### 2. What is/are the insight(s) found from the chart?"
      ],
      "metadata": {
        "id": "_ouA3fa0phqN"
      }
    },
    {
      "cell_type": "markdown",
      "source": [
        "The chart clearly shows that 'BB' meal type plan is the most popular choice among guests."
      ],
      "metadata": {
        "id": "VECbqPI7phqN"
      }
    },
    {
      "cell_type": "markdown",
      "source": [
        "##### 3. Will the gained insights help creating a positive business impact?\n",
        "Are there any insights that lead to negative growth? Justify with specific reason."
      ],
      "metadata": {
        "id": "Seke61FWphqN"
      }
    },
    {
      "cell_type": "markdown",
      "source": [
        "Yes the gained insights shows positive impact.\n",
        "\n",
        "**Positive impact:** Hotels should ensure a variety and quantity of \"BB\" meal type plan to meet the demand.\n",
        "\n",
        "**Negative impact:** The chart also shows low popularity of 'HB' , 'FB' and 'SC' meal plans. This could lead to missed revenue opportunities."
      ],
      "metadata": {
        "id": "DW4_bGpfphqN"
      }
    },
    {
      "cell_type": "markdown",
      "source": [
        "#### Chart - 7"
      ],
      "metadata": {
        "id": "PIIx-8_IphqN"
      }
    },
    {
      "cell_type": "code",
      "source": [
        "# Chart - 7 visualising the count of bookings by market segment.\n",
        "sns.countplot(x='market_segment', data=df_copy)\n",
        "plt.title('Distribution of Bookings by Market Segment')\n",
        "plt.xlabel('Market Segment')\n",
        "plt.ylabel('Count')\n",
        "plt.xticks(rotation=90)\n",
        "plt.show()"
      ],
      "metadata": {
        "id": "lqAIGUfyphqO"
      },
      "execution_count": null,
      "outputs": []
    },
    {
      "cell_type": "markdown",
      "source": [
        "##### 1. Why did you pick the specific chart?"
      ],
      "metadata": {
        "id": "t27r6nlMphqO"
      }
    },
    {
      "cell_type": "markdown",
      "source": [
        "To visualise the distribution of bookings across different market segments."
      ],
      "metadata": {
        "id": "iv6ro40sphqO"
      }
    },
    {
      "cell_type": "markdown",
      "source": [
        "##### 2. What is/are the insight(s) found from the chart?"
      ],
      "metadata": {
        "id": "r2jJGEOYphqO"
      }
    },
    {
      "cell_type": "markdown",
      "source": [
        "The chart shows that 'Online TA' market segment contributes the most in terms of bookings.This indicates that this channel is more preffered by customers for bookings."
      ],
      "metadata": {
        "id": "Po6ZPi4hphqO"
      }
    },
    {
      "cell_type": "markdown",
      "source": [
        "##### 3. Will the gained insights help creating a positive business impact?\n",
        "Are there any insights that lead to negative growth? Justify with specific reason."
      ],
      "metadata": {
        "id": "b0JNsNcRphqO"
      }
    },
    {
      "cell_type": "markdown",
      "source": [
        "Yes the gained insights shows some positive impact.\n",
        "\n",
        "**Positive impact:** Hotels should strenthen thier relationship with Online and Offline Travel agents as they are the primary source of bookings in order to generate more revenue.\n",
        "\n",
        "**Negative impact:** Hotels should develop strategies to increase bookings\n",
        "through other channels to reach a broader range of customer segments. This can increase profit margins."
      ],
      "metadata": {
        "id": "xvSq8iUTphqO"
      }
    },
    {
      "cell_type": "markdown",
      "source": [
        "# Bivariate and Multivariate analysis"
      ],
      "metadata": {
        "id": "yxH9tljUelhx"
      }
    },
    {
      "cell_type": "markdown",
      "source": [
        "#### Chart - 8"
      ],
      "metadata": {
        "id": "BZR9WyysphqO"
      }
    },
    {
      "cell_type": "code",
      "source": [
        "# Chart - 8 visualising the number of bookings on monthly basis.\n",
        "month_order = ['January', 'February', 'March', 'April', 'May', 'June', 'July', 'August', 'September', 'October', 'November', 'December']\n",
        "df_copy['arrival_date_month'] = pd.Categorical(df_copy['arrival_date_month'], categories=month_order, ordered=True)\n",
        "\n",
        "monthly_bookings = df_copy.groupby('arrival_date_month')['hotel'].count()\n",
        "plt.figure(figsize=(12, 6))\n",
        "plt.plot(monthly_bookings.index, monthly_bookings.values, marker = 'o')\n",
        "plt.xlabel('Month')\n",
        "plt.ylabel('Number of Bookings')\n",
        "plt.title('Monthly Booking Trend')\n",
        "plt.grid(True)\n",
        "plt.show()"
      ],
      "metadata": {
        "id": "TdPTWpAVphqO"
      },
      "execution_count": null,
      "outputs": []
    },
    {
      "cell_type": "markdown",
      "source": [
        "##### 1. Why did you pick the specific chart?"
      ],
      "metadata": {
        "id": "jj7wYXLtphqO"
      }
    },
    {
      "cell_type": "markdown",
      "source": [
        "Because i want to show the trends of bookings on monthly basis and a line chart is a good choice for that."
      ],
      "metadata": {
        "id": "Ob8u6rCTphqO"
      }
    },
    {
      "cell_type": "markdown",
      "source": [
        "##### 2. What is/are the insight(s) found from the chart?"
      ],
      "metadata": {
        "id": "eZrbJ2SmphqO"
      }
    },
    {
      "cell_type": "markdown",
      "source": [
        "The graph shows that the higher number of bookings occured in months of may, june, july and august. This might be due to the summer holidays. Additionaly these months often have pleasant weather in many destination."
      ],
      "metadata": {
        "id": "mZtgC_hjphqO"
      }
    },
    {
      "cell_type": "markdown",
      "source": [
        "##### 3. Will the gained insights help creating a positive business impact?\n",
        "Are there any insights that lead to negative growth? Justify with specific reason."
      ],
      "metadata": {
        "id": "rFu4xreNphqO"
      }
    },
    {
      "cell_type": "markdown",
      "source": [
        "Yes the gained insights create some positive impact.\n",
        "Knowing that May, June, July, and August are peak months hotels should adjust their pricing strategies and they can promote special offers and packages during these seasons to attract more guests in order to increase their revenue."
      ],
      "metadata": {
        "id": "ey_0qi68phqO"
      }
    },
    {
      "cell_type": "markdown",
      "source": [
        "#### Chart - 9"
      ],
      "metadata": {
        "id": "YJ55k-q6phqO"
      }
    },
    {
      "cell_type": "code",
      "source": [
        "# Chart - 9 visualising the top 10 countries in terms of bookings.\n",
        "country_person = df_copy.groupby('country')['total_person'].sum().sort_values(ascending=False)\n",
        "top_country = country_person.head(10)\n",
        "plt.figure(figsize=(8,6))\n",
        "sns.barplot(x=top_country.index, y=top_country.values)\n",
        "plt.xlabel('Country')\n",
        "plt.ylabel('Total_People')\n",
        "plt.title('Top 10 countries vs total people')\n",
        "plt.show()"
      ],
      "metadata": {
        "id": "B2aS4O1ophqO"
      },
      "execution_count": null,
      "outputs": []
    },
    {
      "cell_type": "markdown",
      "source": [
        "##### 1. Why did you pick the specific chart?"
      ],
      "metadata": {
        "id": "gCFgpxoyphqP"
      }
    },
    {
      "cell_type": "markdown",
      "source": [
        "We choose bar chart for showing the distribution of top 10 countries(categorical column) with total person(numerical column).And a bar chart is a good choice for that."
      ],
      "metadata": {
        "id": "TVxDimi2phqP"
      }
    },
    {
      "cell_type": "markdown",
      "source": [
        "##### 2. What is/are the insight(s) found from the chart?"
      ],
      "metadata": {
        "id": "OVtJsKN_phqQ"
      }
    },
    {
      "cell_type": "markdown",
      "source": [
        "Here we can see that maximum number of peoples are from portugal(PRT).Thus more bookings were made from purtgal."
      ],
      "metadata": {
        "id": "ngGi97qjphqQ"
      }
    },
    {
      "cell_type": "markdown",
      "source": [
        "##### 3. Will the gained insights help creating a positive business impact?\n",
        "Are there any insights that lead to negative growth? Justify with specific reason."
      ],
      "metadata": {
        "id": "lssrdh5qphqQ"
      }
    },
    {
      "cell_type": "markdown",
      "source": [
        "Yes the gained insights create a positive impact.\n",
        "\n",
        "**Positive impact:** Knowing the top contributing countries hotels can tailor promotions, packages, and even language options to atrract those countries poeple.\n",
        "\n",
        "**Negative impact:** Focusing solely on the top countries might lead to neglecting potential growth from other emerging markets."
      ],
      "metadata": {
        "id": "tBpY5ekJphqQ"
      }
    },
    {
      "cell_type": "markdown",
      "source": [
        "#### Chart - 10"
      ],
      "metadata": {
        "id": "U2RJ9gkRphqQ"
      }
    },
    {
      "cell_type": "code",
      "source": [
        "# Chart - 10 visualising the average adr of hotels on monthly basis.\n",
        "adr_by_month_hotel = df_copy.groupby(['arrival_date_month', 'hotel'])['adr'].mean().unstack()\n",
        "adr_by_month_hotel.plot(kind='bar')\n",
        "plt.xlabel('Month')\n",
        "plt.ylabel('Average ADR')\n",
        "plt.title('Average ADR by Month and Hotel Type')\n",
        "plt.show()"
      ],
      "metadata": {
        "id": "GogTZRzU0qwS"
      },
      "execution_count": null,
      "outputs": []
    },
    {
      "cell_type": "markdown",
      "source": [
        "##### 1. Why did you pick the specific chart?"
      ],
      "metadata": {
        "id": "1M8mcRywphqQ"
      }
    },
    {
      "cell_type": "markdown",
      "source": [
        "I picked this combination of bar chart to show the comparison of average daily rate (ADR) across different months,split by type of hotel."
      ],
      "metadata": {
        "id": "8agQvks0phqQ"
      }
    },
    {
      "cell_type": "markdown",
      "source": [
        "##### 2. What is/are the insight(s) found from the chart?"
      ],
      "metadata": {
        "id": "tgIPom80phqQ"
      }
    },
    {
      "cell_type": "markdown",
      "source": [
        "Both city hotel and resort hotel have higher ADR during peak seasons like summer months."
      ],
      "metadata": {
        "id": "Qp13pnNzphqQ"
      }
    },
    {
      "cell_type": "markdown",
      "source": [
        "##### 3. Will the gained insights help creating a positive business impact?\n",
        "Are there any insights that lead to negative growth? Justify with specific reason."
      ],
      "metadata": {
        "id": "JMzcOPDDphqR"
      }
    },
    {
      "cell_type": "markdown",
      "source": [
        "Yes the gained insights create positive business impact.\n",
        "\n",
        "**Positive impact:** Understanding seasonal trends hotels should adjust their pricing strategies to maximize revenue. They can increase prices during peak season and offer discounts or promotions during the off-season to attract more guests.\n",
        "\n"
      ],
      "metadata": {
        "id": "R4Ka1PC2phqR"
      }
    },
    {
      "cell_type": "markdown",
      "source": [
        "#### Chart - 11"
      ],
      "metadata": {
        "id": "x-EpHcCOp1ci"
      }
    },
    {
      "cell_type": "code",
      "source": [
        "# Chart - 11 visualising the total revenue of both hotels.\n",
        "df_copy['revenue'] = df_copy['adr'] * df_copy['total_stays']\n",
        "revenue_by_hotel = df_copy.groupby('hotel')['revenue'].sum()\n",
        "revenue_by_hotel.plot(kind='bar')\n",
        "plt.xlabel('Hotel Type')\n",
        "plt.ylabel('Total Revenue')\n",
        "plt.title('Total Revenue by Hotel Type')\n",
        "plt.show()\n"
      ],
      "metadata": {
        "id": "mAQTIvtqp1cj"
      },
      "execution_count": null,
      "outputs": []
    },
    {
      "cell_type": "markdown",
      "source": [
        "##### 1. Why did you pick the specific chart?"
      ],
      "metadata": {
        "id": "X_VqEhTip1ck"
      }
    },
    {
      "cell_type": "markdown",
      "source": [
        "To show the comparison of total revenue by hotel type and a bar chart is a good choice."
      ],
      "metadata": {
        "id": "-vsMzt_np1ck"
      }
    },
    {
      "cell_type": "markdown",
      "source": [
        "##### 2. What is/are the insight(s) found from the chart?"
      ],
      "metadata": {
        "id": "8zGJKyg5p1ck"
      }
    },
    {
      "cell_type": "markdown",
      "source": [
        "We found that city hotels are generating the more revenue."
      ],
      "metadata": {
        "id": "ZYdMsrqVp1ck"
      }
    },
    {
      "cell_type": "markdown",
      "source": [
        "##### 3. Will the gained insights help creating a positive business impact?\n",
        "Are there any insights that lead to negative growth? Justify with specific reason."
      ],
      "metadata": {
        "id": "PVzmfK_Ep1ck"
      }
    },
    {
      "cell_type": "markdown",
      "source": [
        "Yes the gained insights creates positive impact.\n",
        "\n",
        "**Positive impact:** Focus on refining pricing strategies for city hotels, especially during peak demand periods, to capture maximum revenue.And by enhancing the guest experience at city hotels to maintain high occupancy rates and positive reviews.\n",
        "\n",
        "**Negative impact:** As resort hotels are generating less revenue so resort hotels should develop some strategies to increase their occupacncy rates.They might offer some discount and packages to attract customers."
      ],
      "metadata": {
        "id": "druuKYZpp1ck"
      }
    },
    {
      "cell_type": "markdown",
      "source": [
        "#### Chart - 12"
      ],
      "metadata": {
        "id": "n3dbpmDWp1ck"
      }
    },
    {
      "cell_type": "code",
      "source": [
        "# Chart - 12 visualising the total revenue based on customer types.\n",
        "df_copy['revenue'] = df_copy['adr'] * df_copy['total_stays']\n",
        "revenue_by_hotel = df_copy.groupby('customer_type')['revenue'].sum()\n",
        "revenue_by_hotel.plot(kind='bar')\n",
        "plt.xlabel('Customer Type')\n",
        "plt.ylabel('Total Revenue')\n",
        "plt.title('Total Revenue by customer Type')\n",
        "plt.show()"
      ],
      "metadata": {
        "id": "bwevp1tKp1ck"
      },
      "execution_count": null,
      "outputs": []
    },
    {
      "cell_type": "markdown",
      "source": [
        "##### 1. Why did you pick the specific chart?"
      ],
      "metadata": {
        "id": "ylSl6qgtp1ck"
      }
    },
    {
      "cell_type": "markdown",
      "source": [
        "We choose bar chart for showing the distribution of total revenue by customer type."
      ],
      "metadata": {
        "id": "m2xqNkiQp1ck"
      }
    },
    {
      "cell_type": "markdown",
      "source": [
        "##### 2. What is/are the insight(s) found from the chart?"
      ],
      "metadata": {
        "id": "ZWILFDl5p1ck"
      }
    },
    {
      "cell_type": "markdown",
      "source": [
        "The chart will clearly shows that Transient customer types generate the most revenue. This information is crucial to attract and retain these high-value segments"
      ],
      "metadata": {
        "id": "x-lUsV2mp1ck"
      }
    },
    {
      "cell_type": "markdown",
      "source": [
        "##### 3. Will the gained insights help creating a positive business impact?\n",
        "Are there any insights that lead to negative growth? Justify with specific reason."
      ],
      "metadata": {
        "id": "M7G43BXep1ck"
      }
    },
    {
      "cell_type": "markdown",
      "source": [
        "Yes the gained insights create some positive impact.\n",
        "\n",
        "**Positive impact:** Hotels should develop specific packages, promotions, or loyalty programs tailored to the needs and preferences of each valuable customer segment. This can enhance customer satisfaction and create a more personalized guest experience, leading to positive reviews and brand loyalty.\n",
        "\n",
        "**Negative impact:** Focusing too heavily on a single customer type can make the business vulnerable.Develop a balanced approach that caters to a variety of customer types, reducing dependence on a single segment."
      ],
      "metadata": {
        "id": "5wwDJXsLp1cl"
      }
    },
    {
      "cell_type": "markdown",
      "source": [
        "#### Chart - 13"
      ],
      "metadata": {
        "id": "Ag9LCva-p1cl"
      }
    },
    {
      "cell_type": "code",
      "source": [
        "# Chart - 13 visualising the count of cancellations of both the hotels.\n",
        "grouped_df = df_copy.groupby(['hotel', 'is_canceled'])['hotel'].count().unstack()\n",
        "grouped_df.plot(kind='bar', stacked = True)\n",
        "plt.title('Distribution of booking cancellation based on hotel type')\n",
        "plt.xlabel('Hotel type')\n",
        "plt.ylabel('Count')\n",
        "plt.xticks(rotation=0)\n",
        "plt.show()\n",
        "print('Here', '0 means not canceled' , '1 means canceled')"
      ],
      "metadata": {
        "id": "AgonWVykGXkz"
      },
      "execution_count": null,
      "outputs": []
    },
    {
      "cell_type": "markdown",
      "source": [
        "##### 1. Why did you pick the specific chart?"
      ],
      "metadata": {
        "id": "E6MkPsBcp1cl"
      }
    },
    {
      "cell_type": "markdown",
      "source": [
        "Because bar chart allows for easy comparison of cancellation rates between city hotels and resort hotels.  "
      ],
      "metadata": {
        "id": "V22bRsFWp1cl"
      }
    },
    {
      "cell_type": "markdown",
      "source": [
        "##### 2. What is/are the insight(s) found from the chart?"
      ],
      "metadata": {
        "id": "2cELzS2fp1cl"
      }
    },
    {
      "cell_type": "markdown",
      "source": [
        "We found that city hotels have higher cancellations than resort hotels and it must be because city hotels have higher bookings than resort hotels."
      ],
      "metadata": {
        "id": "ozQPc2_Ip1cl"
      }
    },
    {
      "cell_type": "markdown",
      "source": [
        "##### 3. Will the gained insights help creating a positive business impact?\n",
        "Are there any insights that lead to negative growth? Justify with specific reason."
      ],
      "metadata": {
        "id": "3MPXvC8up1cl"
      }
    },
    {
      "cell_type": "markdown",
      "source": [
        "Yes the gained insights create some positive impact.We found that both hotel types have less cancellation than bookings.Hotels can implement strategies to minimize those cancellations, directly impacting revenue.By tailoring cancellation policies or fees based on hotel type can lead to increased revenue and reduced last-minute vacancies.Proactive communication with hotel guests can improve their overall experience, leading to better reviews and repeat bookings."
      ],
      "metadata": {
        "id": "GL8l1tdLp1cl"
      }
    },
    {
      "cell_type": "markdown",
      "source": [
        "#### Chart - 14 - Correlation Heatmap"
      ],
      "metadata": {
        "id": "NC_X3p0fY2L0"
      }
    },
    {
      "cell_type": "code",
      "source": [
        "# Chart - 14 visualising the correlation between columns.\n",
        "col = ['is_canceled', 'lead_time', 'is_repeated_guest', 'previous_cancellations', 'days_in_waiting_list', 'adr', 'total_person', 'total_stays']\n",
        "corr_matrix = df_copy[col].corr()\n",
        "plt.figure(figsize=(10, 8))\n",
        "sns.heatmap(corr_matrix, annot=True, cmap='coolwarm')\n",
        "plt.title('Correlation Heatmap')\n",
        "plt.show()\n"
      ],
      "metadata": {
        "id": "xyC9zolEZNRQ"
      },
      "execution_count": null,
      "outputs": []
    },
    {
      "cell_type": "markdown",
      "source": [
        "##### 1. Why did you pick the specific chart?"
      ],
      "metadata": {
        "id": "UV0SzAkaZNRQ"
      }
    },
    {
      "cell_type": "markdown",
      "source": [
        "Because heatmap is best chart to show correlation between the numerical columns."
      ],
      "metadata": {
        "id": "DVPuT8LYZNRQ"
      }
    },
    {
      "cell_type": "markdown",
      "source": [
        "##### 2. What is/are the insight(s) found from the chart?"
      ],
      "metadata": {
        "id": "YPEH6qLeZNRQ"
      }
    },
    {
      "cell_type": "markdown",
      "source": [
        "1.   'lead_time' and 'is_canceled' show a moderate positive correlation, suggesting that bookings made further in advance are more likely to be canceled.\n",
        "2.   'adr' (average daily rate) and 'total_person' have a positive correlation, indicating that bookings with more people tend to have higher average daily rates.\n",
        "3.  'is_repeated_guest' and 'is_canceled' have a negative correlation, implying that repeat guests are unlikely to cancel their bookings.\n",
        "4.   There is negative correlation of 'is repeated guest' with the columns of 'adr' , 'total person' and 'total stays'.   \n",
        "5.   Most other variable pairs show weak or no significant correlation.\n",
        "6.   Here highest positive coorelation is 0.39 which is between 'total person' and 'adr' and highest negative correlation is -0.16 which is between 'total person' and 'is repeated guest'.\n",
        "\n",
        "\n",
        "\n"
      ],
      "metadata": {
        "id": "bfSqtnDqZNRR"
      }
    },
    {
      "cell_type": "markdown",
      "source": [
        "#### Chart - 15 - Pair Plot"
      ],
      "metadata": {
        "id": "q29F0dvdveiT"
      }
    },
    {
      "cell_type": "code",
      "source": [
        "# Chart - 15 visualising the pairwise relations between numerical columns.\n",
        "col = ['is_canceled', 'lead_time', 'is_repeated_guest', 'previous_cancellations', 'days_in_waiting_list', 'adr', 'total_person', 'total_stays']\n",
        "sns.pairplot(df_copy[col])\n",
        "plt.suptitle('Pair Plot')\n",
        "plt.show()"
      ],
      "metadata": {
        "id": "o58-TEIhveiU"
      },
      "execution_count": null,
      "outputs": []
    },
    {
      "cell_type": "markdown",
      "source": [
        "##### 1. Why did you pick the specific chart?"
      ],
      "metadata": {
        "id": "EXh0U9oCveiU"
      }
    },
    {
      "cell_type": "markdown",
      "source": [
        "To visualise the pairwise relationships between multiple numerical variables"
      ],
      "metadata": {
        "id": "eMmPjTByveiU"
      }
    },
    {
      "cell_type": "markdown",
      "source": [
        "##### 2. What is/are the insight(s) found from the chart?"
      ],
      "metadata": {
        "id": "22aHeOlLveiV"
      }
    },
    {
      "cell_type": "markdown",
      "source": [
        "#### Here the insights we found are similar to the insights of above heatmap chart.\n",
        "\n",
        "1.   'lead_time' and 'is_canceled' show a moderate positive trend, suggesting that bookings made further in advance are more likely to be canceled.\n",
        "2.   'adr' (average daily rate) and 'total_person' have a positive trend, indicating that bookings with more people tend to have higher average daily rates.\n",
        "3.  'is_repeated_guest' and 'is_canceled' have a negative trend, implying that repeat guests are unlikely to cancel their bookings.\n",
        "4.   There is negative correlation of 'is repeated guest' with the columns of 'adr' , 'total person' and 'total stays'.\n",
        "5.   Most other variable pairs show weak or no significant relations.\n"
      ],
      "metadata": {
        "id": "uPQ8RGwHveiV"
      }
    },
    {
      "cell_type": "markdown",
      "source": [
        "## **5. Solution to Business Objective**"
      ],
      "metadata": {
        "id": "JcMwzZxoAimU"
      }
    },
    {
      "cell_type": "markdown",
      "source": [
        "#### What do you suggest the client to achieve Business Objective ?\n",
        "Explain Briefly."
      ],
      "metadata": {
        "id": "8G2x9gOozGDZ"
      }
    },
    {
      "cell_type": "markdown",
      "source": [
        "**Optimize pricing strategies:**\n",
        "\n",
        "1.Hotels should adjust rates based on demand,seasonality and competitor pricing.\n",
        "\n",
        "2.Offer discounts and packages during the off seasons to attract more guests.\n",
        "\n",
        "**Enhanced guests experience:**\n",
        "\n",
        "1.Focus on improving customer satisfaction for both city and resort hotels.\n",
        "\n",
        "2.Personalised the guest experience based on customer preferences and needs.\n",
        "\n",
        "**Diversify marketing and distribution channels:**\n",
        "\n",
        "Develop strategies to increase bookings through other channels to reach broader raage of customer to reduce dependencies on a single channel.\n",
        "\n",
        "**Optimize the resource allocation:**\n",
        "\n",
        "1.Ensure sufficient availability of popular room types to meet the demand.\n",
        "\n",
        "2.Explore strategies to increase the occupacy of other room types.\n",
        "\n",
        "Lastly , monitor booking patterns, cancellations and guests preferrences to make informed decisions."
      ],
      "metadata": {
        "id": "pASKb0qOza21"
      }
    },
    {
      "cell_type": "markdown",
      "source": [
        "# **Conclusion**"
      ],
      "metadata": {
        "id": "gCX9965dhzqZ"
      }
    },
    {
      "cell_type": "markdown",
      "source": [
        "1. City hotels have more bookings and cancellations than resort hotel.\n",
        "2. In both the hotels bookings are highest during summer months(may-august).\n",
        "3. Transient customers are the most valueable segment.\n",
        "4. Online travel agents(TA/TO) are the primary booking channel.\n",
        "5. City hotels are more popular and generate more revenue.\n",
        "6. Room type 'A' and 'BB' type meal are the most popular among guests.\n",
        "7. The average length of stay are 1 to 4.\n",
        "8. Maximum number of bookings are from Portugal(PRT) followed by great britain(GBR) countries."
      ],
      "metadata": {
        "id": "Fjb1IsQkh3yE"
      }
    },
    {
      "cell_type": "markdown",
      "source": [
        "### ***Hurrah! You have successfully completed your EDA Capstone Project !!!***"
      ],
      "metadata": {
        "id": "gIfDvo9L0UH2"
      }
    }
  ]
}